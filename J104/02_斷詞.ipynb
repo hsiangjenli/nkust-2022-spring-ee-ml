{
 "cells": [
  {
   "cell_type": "markdown",
   "metadata": {},
   "source": [
    "# 02_斷詞"
   ]
  },
  {
   "cell_type": "code",
   "execution_count": null,
   "metadata": {},
   "outputs": [],
   "source": [
    "import os\n",
    "from google.colab import drive\n",
    "\n",
    "drive.mount('/content/drive')\n",
    "os.chdir(r'/content/drive/MyDrive/🏫 2018 NKUST/🏫 4th/1102_Machine Learning/Final__Apriori Job104')"
   ]
  },
  {
   "cell_type": "code",
   "execution_count": null,
   "metadata": {},
   "outputs": [],
   "source": [
    "!pip install ckip-transformers"
   ]
  },
  {
   "cell_type": "code",
   "execution_count": null,
   "metadata": {},
   "outputs": [],
   "source": [
    "import pandas as pd\n",
    "\n",
    "df_FromCSVJob104RawData = pd.read_csv('./Data/01_Job104Raw.csv', sep='|')\n",
    "df_FromCSVJob104RawData.fillna('', inplace=True)\n",
    "df_FromCSVJob104RawData.head(1)"
   ]
  },
  {
   "cell_type": "code",
   "execution_count": null,
   "metadata": {},
   "outputs": [],
   "source": [
    "from ckip_transformers.nlp import CkipWordSegmenter, CkipPosTagger\n",
    "\n",
    "LEVEL = 3\n",
    "DEVICE = 0 # GPU\n",
    "\n",
    "WS = CkipWordSegmenter(level=LEVEL, device=DEVICE) # 斷詞\n",
    "POS = CkipPosTagger(level=LEVEL, device=DEVICE) # 詞性"
   ]
  },
  {
   "cell_type": "code",
   "execution_count": null,
   "metadata": {},
   "outputs": [],
   "source": [
    "ws_JobDescription = WS(df_FromCSVJob104RawData.JobDescription)\n",
    "pos_JobDescription = POS(ws_JobDescription)\n",
    "\n",
    "ws_Others = WS(df_FromCSVJob104RawData.Others)\n",
    "pos_Others = POS(ws_Others)"
   ]
  },
  {
   "cell_type": "code",
   "execution_count": null,
   "metadata": {},
   "outputs": [],
   "source": [
    "df_FromCSVJob104RawData['WS_JobDescription'] = ws_JobDescription\n",
    "df_FromCSVJob104RawData['POS_JobDescription'] = pos_JobDescription\n",
    "\n",
    "df_FromCSVJob104RawData['WS_Others'] = ws_Others\n",
    "df_FromCSVJob104RawData['POS_Others'] = pos_Others"
   ]
  },
  {
   "cell_type": "code",
   "execution_count": null,
   "metadata": {},
   "outputs": [],
   "source": [
    "df_FromCSVJob104RawData.to_csv('./Data/02_Job104Tokenize.csv', sep='|', index=False)"
   ]
  }
 ],
 "metadata": {
  "language_info": {
   "name": "python"
  },
  "orig_nbformat": 4
 },
 "nbformat": 4,
 "nbformat_minor": 2
}
