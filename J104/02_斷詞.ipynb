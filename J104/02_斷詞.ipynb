{
 "cells": [
  {
   "cell_type": "markdown",
   "metadata": {},
   "source": [
    "# 02_斷詞"
   ]
  },
  {
   "cell_type": "code",
   "execution_count": null,
   "metadata": {},
   "outputs": [],
   "source": [
    "import pandas as pd\n",
    "\n",
    "df_FromCSVJob104RawData = pd.read_csv('./Data/01_Job104Raw.csv', sep='|')\n",
    "df_FromCSVJob104RawData.fillna('', inplace=True)\n",
    "df_FromCSVJob104RawData.head(1)"
   ]
  },
  {
   "cell_type": "code",
   "execution_count": null,
   "metadata": {},
   "outputs": [],
   "source": [
    "from ckip_transformers.nlp import CkipWordSegmenter, CkipPosTagger\n",
    "\n",
    "WS = CkipWordSegmenter() # 斷詞\n",
    "POS = CkipPosTagger() # 詞性"
   ]
  },
  {
   "cell_type": "code",
   "execution_count": null,
   "metadata": {},
   "outputs": [],
   "source": [
    "ws_JobDescription = WS(df_FromCSVJob104RawData.JobDescription)\n",
    "pos_JobDescription = POS(ws_JobDescription)\n",
    "\n",
    "ws_Others = WS(df_FromCSVJob104RawData.Others)\n",
    "pos_Others = POS(ws_Others)"
   ]
  },
  {
   "cell_type": "code",
   "execution_count": null,
   "metadata": {},
   "outputs": [],
   "source": [
    "df_FromCSVJob104RawData['WS_JobDescription'] = ws_JobDescription\n",
    "df_FromCSVJob104RawData['POS_JobDescription'] = pos_JobDescription\n",
    "\n",
    "df_FromCSVJob104RawData['WS_Others'] = ws_Others\n",
    "df_FromCSVJob104RawData['POS_Others'] = pos_Others"
   ]
  },
  {
   "cell_type": "code",
   "execution_count": null,
   "metadata": {},
   "outputs": [],
   "source": [
    "df_FromCSVJob104RawData.to_csv('./Data/02_Job104Tokenize.csv', sep='|', index=False)"
   ]
  }
 ],
 "metadata": {
  "kernelspec": {
   "display_name": "Python 3.7.13 ('j104')",
   "language": "python",
   "name": "python3"
  },
  "language_info": {
   "codemirror_mode": {
    "name": "ipython",
    "version": 3
   },
   "file_extension": ".py",
   "mimetype": "text/x-python",
   "name": "python",
   "nbconvert_exporter": "python",
   "pygments_lexer": "ipython3",
   "version": "3.7.13"
  },
  "orig_nbformat": 4,
  "vscode": {
   "interpreter": {
    "hash": "fc043f944bcdca34f51ea3ed9ba1d2fa85527621864fcacfdff74b505069b786"
   }
  }
 },
 "nbformat": 4,
 "nbformat_minor": 2
}
