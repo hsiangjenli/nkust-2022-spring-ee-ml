{
 "cells": [
  {
   "cell_type": "markdown",
   "metadata": {},
   "source": [
    "# 05_Apriori"
   ]
  },
  {
   "cell_type": "code",
   "execution_count": 1,
   "metadata": {},
   "outputs": [],
   "source": [
    "import numpy as np\n",
    "from helper import EZApriori\n",
    "\n",
    "np_FromNumpyJob104MergedData = np.load(file='./Data/04_Job104Merged.npy', allow_pickle=True)\n",
    "list_Job104MergedData = list(np_FromNumpyJob104MergedData)"
   ]
  },
  {
   "cell_type": "code",
   "execution_count": 2,
   "metadata": {},
   "outputs": [],
   "source": [
    "ezapriori = EZApriori(TRANSACTION=list_Job104MergedData)"
   ]
  },
  {
   "cell_type": "code",
   "execution_count": 3,
   "metadata": {},
   "outputs": [],
   "source": [
    "ezapriori.fit(SUPPORT=0.1, CONFIDENCE=0.7)"
   ]
  },
  {
   "cell_type": "markdown",
   "metadata": {},
   "source": [
    "<iframe width='100%' height='750px '\n",
    "    style=\"border:none\"\n",
    "    src='../Plot_Apriori__S_0.100_C_0.700.html'></iframe>"
   ]
  },
  {
   "cell_type": "code",
   "execution_count": 4,
   "metadata": {},
   "outputs": [],
   "source": [
    "ezapriori.fit(SUPPORT=0.1, CONFIDENCE=0.8)"
   ]
  }
 ],
 "metadata": {
  "kernelspec": {
   "display_name": "Python 3.7.13 ('j104')",
   "language": "python",
   "name": "python3"
  },
  "language_info": {
   "codemirror_mode": {
    "name": "ipython",
    "version": 3
   },
   "file_extension": ".py",
   "mimetype": "text/x-python",
   "name": "python",
   "nbconvert_exporter": "python",
   "pygments_lexer": "ipython3",
   "version": "3.7.13"
  },
  "orig_nbformat": 4,
  "vscode": {
   "interpreter": {
    "hash": "fc043f944bcdca34f51ea3ed9ba1d2fa85527621864fcacfdff74b505069b786"
   }
  }
 },
 "nbformat": 4,
 "nbformat_minor": 2
}
