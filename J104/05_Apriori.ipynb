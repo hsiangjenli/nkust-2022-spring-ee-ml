{
 "cells": [
  {
   "cell_type": "markdown",
   "metadata": {},
   "source": [
    "# 05_Apriori"
   ]
  },
  {
   "cell_type": "code",
   "execution_count": 1,
   "metadata": {},
   "outputs": [],
   "source": [
    "import numpy as np\n",
    "from helper import EZApriori\n",
    "\n",
    "np_FromNumpyJob104MergedData = np.load(file='./Data/04_Job104Merged.npy', allow_pickle=True)\n",
    "list_Job104MergedData = list(np_FromNumpyJob104MergedData)"
   ]
  },
  {
   "cell_type": "code",
   "execution_count": 2,
   "metadata": {},
   "outputs": [],
   "source": [
    "ezapriori = EZApriori(TRANSACTION=list_Job104MergedData)"
   ]
  },
  {
   "cell_type": "code",
   "execution_count": 3,
   "metadata": {},
   "outputs": [],
   "source": [
    "ezapriori.fit(SUPPORT=0.05, CONFIDENCE=0.6)"
   ]
  },
  {
   "cell_type": "code",
   "execution_count": 4,
   "metadata": {},
   "outputs": [],
   "source": [
    "ezapriori.fit(SUPPORT=0.07, CONFIDENCE=0.6)"
   ]
  },
  {
   "cell_type": "code",
   "execution_count": 5,
   "metadata": {},
   "outputs": [],
   "source": [
    "ezapriori.fit(SUPPORT=0.065, CONFIDENCE=0.6)"
   ]
  },
  {
   "cell_type": "code",
   "execution_count": 6,
   "metadata": {},
   "outputs": [],
   "source": [
    "ezapriori.fit(SUPPORT=0.07, CONFIDENCE=0.7)"
   ]
  },
  {
   "cell_type": "code",
   "execution_count": 7,
   "metadata": {},
   "outputs": [],
   "source": [
    "ezapriori.fit(SUPPORT=0.1, CONFIDENCE=0.7)"
   ]
  },
  {
   "cell_type": "code",
   "execution_count": 8,
   "metadata": {},
   "outputs": [],
   "source": [
    "ezapriori.fit(SUPPORT=0.1, CONFIDENCE=0.8)"
   ]
  }
 ],
 "metadata": {
  "kernelspec": {
   "display_name": "Python 3.7.11 ('ai23')",
   "language": "python",
   "name": "python3"
  },
  "language_info": {
   "codemirror_mode": {
    "name": "ipython",
    "version": 3
   },
   "file_extension": ".py",
   "mimetype": "text/x-python",
   "name": "python",
   "nbconvert_exporter": "python",
   "pygments_lexer": "ipython3",
   "version": "3.7.11"
  },
  "orig_nbformat": 4,
  "vscode": {
   "interpreter": {
    "hash": "8954171f7cf90b5d755ed20408ea901202ff28e90bea9e5d77f4d9278b45a313"
   }
  }
 },
 "nbformat": 4,
 "nbformat_minor": 2
}
