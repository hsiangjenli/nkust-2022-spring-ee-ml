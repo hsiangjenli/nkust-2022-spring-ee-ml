{
 "cells": [
  {
   "cell_type": "markdown",
   "metadata": {},
   "source": [
    "# 01_抓資料"
   ]
  },
  {
   "cell_type": "code",
   "execution_count": 2,
   "metadata": {},
   "outputs": [],
   "source": [
    "from helper import Job104\n",
    "import pandas as pd\n",
    "\n",
    "MUST_INCLUDE = ['數據分析', '商業分析', 'BA', '分析', '研究', 'AI', '資料', '演算法', 'DS']\n",
    "\n",
    "job104 = Job104(KEYWORD='金融&數據分析', MAX_PAGES=100, MUST_INCLUDE=MUST_INCLUDE)"
   ]
  },
  {
   "cell_type": "code",
   "execution_count": 3,
   "metadata": {},
   "outputs": [],
   "source": [
    "list_JobData = []\n",
    "\n",
    "for info in job104.Crawler():\n",
    "    list_JobData.append(info)"
   ]
  },
  {
   "cell_type": "code",
   "execution_count": 4,
   "metadata": {},
   "outputs": [
    {
     "data": {
      "text/html": [
       "<div>\n",
       "<style scoped>\n",
       "    .dataframe tbody tr th:only-of-type {\n",
       "        vertical-align: middle;\n",
       "    }\n",
       "\n",
       "    .dataframe tbody tr th {\n",
       "        vertical-align: top;\n",
       "    }\n",
       "\n",
       "    .dataframe thead th {\n",
       "        text-align: right;\n",
       "    }\n",
       "</style>\n",
       "<table border=\"1\" class=\"dataframe\">\n",
       "  <thead>\n",
       "    <tr style=\"text-align: right;\">\n",
       "      <th></th>\n",
       "      <th>Title</th>\n",
       "      <th>Company</th>\n",
       "      <th>County</th>\n",
       "      <th>Salary</th>\n",
       "      <th>Category</th>\n",
       "      <th>JobDescription</th>\n",
       "      <th>Experience</th>\n",
       "      <th>Education</th>\n",
       "      <th>Major</th>\n",
       "      <th>Language</th>\n",
       "      <th>Skills</th>\n",
       "      <th>Others</th>\n",
       "      <th>Url</th>\n",
       "    </tr>\n",
       "  </thead>\n",
       "  <tbody>\n",
       "    <tr>\n",
       "      <th>0</th>\n",
       "      <td>[東南亞金融科技發展, 商業分析師, 數數發中心,, DDT]</td>\n",
       "      <td>[國泰金控, 國泰金融控股股份有限公司]</td>\n",
       "      <td>台北市</td>\n",
       "      <td>[30000, 90000]</td>\n",
       "      <td>[金融研究員 , 產品企劃開發人員 , 其他專案管理師 ]</td>\n",
       "      <td>(1) 規劃與設計以「數據驅動」為核心之商業解決方案，並整合跨單位業務合作以實務落地。\\n(...</td>\n",
       "      <td>[2年以上]</td>\n",
       "      <td>[大學, 碩士]</td>\n",
       "      <td>[不拘]</td>\n",
       "      <td>[英文, --, 聽, /精通, 說, /精通]</td>\n",
       "      <td>[不拘]</td>\n",
       "      <td>(1) 具備保險或銀行業專業知識者\\n(2) 具 SQL 資料庫程式撰寫能力\\n(3) 具 ...</td>\n",
       "      <td>https://www.104.com.tw/job/7aflm?jobsource=jol...</td>\n",
       "    </tr>\n",
       "    <tr>\n",
       "      <th>1</th>\n",
       "      <td>[金融研究員]</td>\n",
       "      <td>[統一證券投資信託股份有限公司]</td>\n",
       "      <td>台北市</td>\n",
       "      <td>[待遇面議, 4 萬元]</td>\n",
       "      <td>[金融研究員 ]</td>\n",
       "      <td>1. 協助主管相關新產品研究調查及指數模擬回測等\\n2. 製作相關報表\\n3. 主管交辦事項</td>\n",
       "      <td>[不拘]</td>\n",
       "      <td>[碩士]</td>\n",
       "      <td>[不拘]</td>\n",
       "      <td>[英文, --, 聽, /中等, 說, /中等]</td>\n",
       "      <td>[不拘]</td>\n",
       "      <td>1. 程式撰寫能力\\n2. 需有投信投顧業務員證照\\n3. 具有熱忱、積極、認真的工作態度\\n</td>\n",
       "      <td>https://www.104.com.tw/job/7jctk?jobsource=jol...</td>\n",
       "    </tr>\n",
       "    <tr>\n",
       "      <th>2</th>\n",
       "      <td>[元大銀行, 數位金融部, 客群經營暨數據分析人員, 元大證券, 元大銀]</td>\n",
       "      <td>[元大金融控股股份有限公司, 元大金控]</td>\n",
       "      <td></td>\n",
       "      <td>[待遇面議, 4 萬元]</td>\n",
       "      <td>[市場調查, 市場分析 , 行銷企劃助理 ]</td>\n",
       "      <td>•數位客群經營與樣貌分析\\n•客群行銷活動規劃與執行\\n•營運指標數據管理及分析\\n•資料處...</td>\n",
       "      <td>[1年以上]</td>\n",
       "      <td>[大學以上]</td>\n",
       "      <td>[不拘]</td>\n",
       "      <td>[英文, --, 聽, /中等, 說, /中等]</td>\n",
       "      <td>[不拘]</td>\n",
       "      <td>•具數據分析1年以上相關工作經驗。\\n•熟悉SQL與Python。\\n•熟悉office，擅...</td>\n",
       "      <td>https://www.104.com.tw/job/7cogh?jobsource=jol...</td>\n",
       "    </tr>\n",
       "  </tbody>\n",
       "</table>\n",
       "</div>"
      ],
      "text/plain": [
       "                                   Title               Company County  \\\n",
       "0        [東南亞金融科技發展, 商業分析師, 數數發中心,, DDT]  [國泰金控, 國泰金融控股股份有限公司]    台北市   \n",
       "1                                [金融研究員]      [統一證券投資信託股份有限公司]    台北市   \n",
       "2  [元大銀行, 數位金融部, 客群經營暨數據分析人員, 元大證券, 元大銀]  [元大金融控股股份有限公司, 元大金控]          \n",
       "\n",
       "           Salary                       Category  \\\n",
       "0  [30000, 90000]  [金融研究員 , 產品企劃開發人員 , 其他專案管理師 ]   \n",
       "1    [待遇面議, 4 萬元]                       [金融研究員 ]   \n",
       "2    [待遇面議, 4 萬元]         [市場調查, 市場分析 , 行銷企劃助理 ]   \n",
       "\n",
       "                                      JobDescription Experience Education  \\\n",
       "0  (1) 規劃與設計以「數據驅動」為核心之商業解決方案，並整合跨單位業務合作以實務落地。\\n(...     [2年以上]  [大學, 碩士]   \n",
       "1     1. 協助主管相關新產品研究調查及指數模擬回測等\\n2. 製作相關報表\\n3. 主管交辦事項       [不拘]      [碩士]   \n",
       "2  •數位客群經營與樣貌分析\\n•客群行銷活動規劃與執行\\n•營運指標數據管理及分析\\n•資料處...     [1年以上]    [大學以上]   \n",
       "\n",
       "  Major                  Language Skills  \\\n",
       "0  [不拘]  [英文, --, 聽, /精通, 說, /精通]   [不拘]   \n",
       "1  [不拘]  [英文, --, 聽, /中等, 說, /中等]   [不拘]   \n",
       "2  [不拘]  [英文, --, 聽, /中等, 說, /中等]   [不拘]   \n",
       "\n",
       "                                              Others  \\\n",
       "0  (1) 具備保險或銀行業專業知識者\\n(2) 具 SQL 資料庫程式撰寫能力\\n(3) 具 ...   \n",
       "1    1. 程式撰寫能力\\n2. 需有投信投顧業務員證照\\n3. 具有熱忱、積極、認真的工作態度\\n   \n",
       "2  •具數據分析1年以上相關工作經驗。\\n•熟悉SQL與Python。\\n•熟悉office，擅...   \n",
       "\n",
       "                                                 Url  \n",
       "0  https://www.104.com.tw/job/7aflm?jobsource=jol...  \n",
       "1  https://www.104.com.tw/job/7jctk?jobsource=jol...  \n",
       "2  https://www.104.com.tw/job/7cogh?jobsource=jol...  "
      ]
     },
     "execution_count": 4,
     "metadata": {},
     "output_type": "execute_result"
    }
   ],
   "source": [
    "df_Jobs = pd.DataFrame(list_JobData)\n",
    "df_Jobs.head(3)"
   ]
  },
  {
   "cell_type": "code",
   "execution_count": 5,
   "metadata": {},
   "outputs": [
    {
     "data": {
      "text/plain": [
       "194"
      ]
     },
     "execution_count": 5,
     "metadata": {},
     "output_type": "execute_result"
    }
   ],
   "source": [
    "len(df_Jobs)"
   ]
  },
  {
   "cell_type": "code",
   "execution_count": 6,
   "metadata": {},
   "outputs": [],
   "source": [
    "df_Jobs.to_csv('./Data/01_Job104Raw.csv', sep='|', index=False)"
   ]
  }
 ],
 "metadata": {
  "kernelspec": {
   "display_name": "Python 3.8.8 ('base')",
   "language": "python",
   "name": "python3"
  },
  "language_info": {
   "codemirror_mode": {
    "name": "ipython",
    "version": 3
   },
   "file_extension": ".py",
   "mimetype": "text/x-python",
   "name": "python",
   "nbconvert_exporter": "python",
   "pygments_lexer": "ipython3",
   "version": "3.8.8"
  },
  "orig_nbformat": 4,
  "vscode": {
   "interpreter": {
    "hash": "e4cce46d6be9934fbd27f9ca0432556941ea5bdf741d4f4d64c6cd7f8dfa8fba"
   }
  }
 },
 "nbformat": 4,
 "nbformat_minor": 2
}
