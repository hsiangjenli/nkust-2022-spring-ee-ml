{
 "cells": [
  {
   "cell_type": "markdown",
   "metadata": {},
   "source": [
    "# 01_抓資料"
   ]
  },
  {
   "cell_type": "code",
   "execution_count": 1,
   "metadata": {},
   "outputs": [],
   "source": [
    "from helper import Job104\n",
    "import pandas as pd\n",
    "\n",
    "MUST_INCLUDE = ['數據分析', '商業分析', 'BA', '分析', '研究', 'AI', '資料', '演算法', 'DS']\n",
    "\n",
    "job104 = Job104(KEYWORD='金融&數據分析', MAX_PAGES=1, MUST_INCLUDE=MUST_INCLUDE)"
   ]
  },
  {
   "cell_type": "code",
   "execution_count": 2,
   "metadata": {},
   "outputs": [],
   "source": [
    "list_JobData = []\n",
    "\n",
    "for info in job104.Crawler():\n",
    "    list_JobData.append(info)"
   ]
  },
  {
   "cell_type": "code",
   "execution_count": 3,
   "metadata": {},
   "outputs": [
    {
     "data": {
      "text/html": [
       "<div>\n",
       "<style scoped>\n",
       "    .dataframe tbody tr th:only-of-type {\n",
       "        vertical-align: middle;\n",
       "    }\n",
       "\n",
       "    .dataframe tbody tr th {\n",
       "        vertical-align: top;\n",
       "    }\n",
       "\n",
       "    .dataframe thead th {\n",
       "        text-align: right;\n",
       "    }\n",
       "</style>\n",
       "<table border=\"1\" class=\"dataframe\">\n",
       "  <thead>\n",
       "    <tr style=\"text-align: right;\">\n",
       "      <th></th>\n",
       "      <th>Title</th>\n",
       "      <th>Company</th>\n",
       "      <th>County</th>\n",
       "      <th>Salary</th>\n",
       "      <th>Category</th>\n",
       "      <th>JobDescription</th>\n",
       "      <th>Experience</th>\n",
       "      <th>Education</th>\n",
       "      <th>Major</th>\n",
       "      <th>Language</th>\n",
       "      <th>Skills</th>\n",
       "      <th>Others</th>\n",
       "      <th>Url</th>\n",
       "    </tr>\n",
       "  </thead>\n",
       "  <tbody>\n",
       "    <tr>\n",
       "      <th>0</th>\n",
       "      <td>[東南亞金融科技發展, 商業分析師, 數數發中心,, DDT]</td>\n",
       "      <td>[國泰金控, 國泰金融控股股份有限公司]</td>\n",
       "      <td>台北市</td>\n",
       "      <td>[30000, 90000]</td>\n",
       "      <td>[金融研究員 , 產品企劃開發人員 , 其他專案管理師 ]</td>\n",
       "      <td>(1) 規劃與設計以「數據驅動」為核心之商業解決方案，並整合跨單位業務合作以實務落地。\\n(...</td>\n",
       "      <td>[2年以上]</td>\n",
       "      <td>[大學, 碩士]</td>\n",
       "      <td>[不拘]</td>\n",
       "      <td>[英文, --, 聽, /精通, 說, /精通]</td>\n",
       "      <td>[不拘]</td>\n",
       "      <td>(1) 具備保險或銀行業專業知識者\\n(2) 具 SQL 資料庫程式撰寫能力\\n(3) 具 ...</td>\n",
       "      <td>https://www.104.com.tw/job/7aflm?jobsource=jol...</td>\n",
       "    </tr>\n",
       "  </tbody>\n",
       "</table>\n",
       "</div>"
      ],
      "text/plain": [
       "                             Title               Company County  \\\n",
       "0  [東南亞金融科技發展, 商業分析師, 數數發中心,, DDT]  [國泰金控, 國泰金融控股股份有限公司]    台北市   \n",
       "\n",
       "           Salary                       Category  \\\n",
       "0  [30000, 90000]  [金融研究員 , 產品企劃開發人員 , 其他專案管理師 ]   \n",
       "\n",
       "                                      JobDescription Experience Education  \\\n",
       "0  (1) 規劃與設計以「數據驅動」為核心之商業解決方案，並整合跨單位業務合作以實務落地。\\n(...     [2年以上]  [大學, 碩士]   \n",
       "\n",
       "  Major                  Language Skills  \\\n",
       "0  [不拘]  [英文, --, 聽, /精通, 說, /精通]   [不拘]   \n",
       "\n",
       "                                              Others  \\\n",
       "0  (1) 具備保險或銀行業專業知識者\\n(2) 具 SQL 資料庫程式撰寫能力\\n(3) 具 ...   \n",
       "\n",
       "                                                 Url  \n",
       "0  https://www.104.com.tw/job/7aflm?jobsource=jol...  "
      ]
     },
     "execution_count": 3,
     "metadata": {},
     "output_type": "execute_result"
    }
   ],
   "source": [
    "df_Jobs = pd.DataFrame(list_JobData)\n",
    "df_Jobs.head(1)"
   ]
  },
  {
   "cell_type": "code",
   "execution_count": 6,
   "metadata": {},
   "outputs": [],
   "source": [
    "df_Jobs.to_csv('./Data/01_Job104Raw.csv', sep='|', index=False)"
   ]
  }
 ],
 "metadata": {
  "kernelspec": {
   "display_name": "Python 3.7.13 ('j104')",
   "language": "python",
   "name": "python3"
  },
  "language_info": {
   "codemirror_mode": {
    "name": "ipython",
    "version": 3
   },
   "file_extension": ".py",
   "mimetype": "text/x-python",
   "name": "python",
   "nbconvert_exporter": "python",
   "pygments_lexer": "ipython3",
   "version": "3.7.13"
  },
  "orig_nbformat": 4,
  "vscode": {
   "interpreter": {
    "hash": "fc043f944bcdca34f51ea3ed9ba1d2fa85527621864fcacfdff74b505069b786"
   }
  }
 },
 "nbformat": 4,
 "nbformat_minor": 2
}
