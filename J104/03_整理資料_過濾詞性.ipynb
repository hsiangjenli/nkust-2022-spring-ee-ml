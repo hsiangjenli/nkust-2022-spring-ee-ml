{
 "cells": [
  {
   "cell_type": "markdown",
   "metadata": {},
   "source": [
    "# 03_整理資料_過濾詞性"
   ]
  },
  {
   "cell_type": "code",
   "execution_count": 1,
   "metadata": {},
   "outputs": [
    {
     "data": {
      "text/html": [
       "<div>\n",
       "<style scoped>\n",
       "    .dataframe tbody tr th:only-of-type {\n",
       "        vertical-align: middle;\n",
       "    }\n",
       "\n",
       "    .dataframe tbody tr th {\n",
       "        vertical-align: top;\n",
       "    }\n",
       "\n",
       "    .dataframe thead th {\n",
       "        text-align: right;\n",
       "    }\n",
       "</style>\n",
       "<table border=\"1\" class=\"dataframe\">\n",
       "  <thead>\n",
       "    <tr style=\"text-align: right;\">\n",
       "      <th></th>\n",
       "      <th>Title</th>\n",
       "      <th>Company</th>\n",
       "      <th>County</th>\n",
       "      <th>Salary</th>\n",
       "      <th>Category</th>\n",
       "      <th>JobDescription</th>\n",
       "      <th>Experience</th>\n",
       "      <th>Education</th>\n",
       "      <th>Major</th>\n",
       "      <th>Language</th>\n",
       "      <th>Skills</th>\n",
       "      <th>Others</th>\n",
       "      <th>Url</th>\n",
       "      <th>WS_JobDescription</th>\n",
       "      <th>POS_JobDescription</th>\n",
       "      <th>WS_Others</th>\n",
       "      <th>POS_Others</th>\n",
       "    </tr>\n",
       "  </thead>\n",
       "  <tbody>\n",
       "    <tr>\n",
       "      <th>0</th>\n",
       "      <td>['東南亞金融科技發展', '商業分析師', '數數發中心,', 'DDT']</td>\n",
       "      <td>['國泰金控', '國泰金融控股股份有限公司']</td>\n",
       "      <td>台北市</td>\n",
       "      <td>['30000', '90000']</td>\n",
       "      <td>['金融研究員 ', '產品企劃開發人員 ', '其他專案管理師 ']</td>\n",
       "      <td>(1) 規劃與設計以「數據驅動」為核心之商業解決方案，並整合跨單位業務合作以實務落地。\\n(...</td>\n",
       "      <td>['2年以上']</td>\n",
       "      <td>['大學', '碩士']</td>\n",
       "      <td>['不拘']</td>\n",
       "      <td>['英文', '--', '聽', '/精通', '說', '/精通']</td>\n",
       "      <td>['不拘']</td>\n",
       "      <td>(1) 具備保險或銀行業專業知識者\\n(2) 具 SQL 資料庫程式撰寫能力\\n(3) 具 ...</td>\n",
       "      <td>https://www.104.com.tw/job/7aflm?jobsource=jol...</td>\n",
       "      <td>['(1) ', '規劃', '與', '設計', '以', '「', '數據', '驅動'...</td>\n",
       "      <td>['Neu', 'VC', 'Caa', 'Na', 'P', 'PARENTHESISCA...</td>\n",
       "      <td>['(', '1', ') ', '具備', '保險', '或', '銀行業', '專業',...</td>\n",
       "      <td>['PARENTHESISCATEGORY', 'Neu', 'PARENTHESISCAT...</td>\n",
       "    </tr>\n",
       "  </tbody>\n",
       "</table>\n",
       "</div>"
      ],
      "text/plain": [
       "                                     Title                   Company County  \\\n",
       "0  ['東南亞金融科技發展', '商業分析師', '數數發中心,', 'DDT']  ['國泰金控', '國泰金融控股股份有限公司']    台北市   \n",
       "\n",
       "               Salary                             Category  \\\n",
       "0  ['30000', '90000']  ['金融研究員 ', '產品企劃開發人員 ', '其他專案管理師 ']   \n",
       "\n",
       "                                      JobDescription Experience     Education  \\\n",
       "0  (1) 規劃與設計以「數據驅動」為核心之商業解決方案，並整合跨單位業務合作以實務落地。\\n(...   ['2年以上']  ['大學', '碩士']   \n",
       "\n",
       "    Major                              Language  Skills  \\\n",
       "0  ['不拘']  ['英文', '--', '聽', '/精通', '說', '/精通']  ['不拘']   \n",
       "\n",
       "                                              Others  \\\n",
       "0  (1) 具備保險或銀行業專業知識者\\n(2) 具 SQL 資料庫程式撰寫能力\\n(3) 具 ...   \n",
       "\n",
       "                                                 Url  \\\n",
       "0  https://www.104.com.tw/job/7aflm?jobsource=jol...   \n",
       "\n",
       "                                   WS_JobDescription  \\\n",
       "0  ['(1) ', '規劃', '與', '設計', '以', '「', '數據', '驅動'...   \n",
       "\n",
       "                                  POS_JobDescription  \\\n",
       "0  ['Neu', 'VC', 'Caa', 'Na', 'P', 'PARENTHESISCA...   \n",
       "\n",
       "                                           WS_Others  \\\n",
       "0  ['(', '1', ') ', '具備', '保險', '或', '銀行業', '專業',...   \n",
       "\n",
       "                                          POS_Others  \n",
       "0  ['PARENTHESISCATEGORY', 'Neu', 'PARENTHESISCAT...  "
      ]
     },
     "execution_count": 1,
     "metadata": {},
     "output_type": "execute_result"
    }
   ],
   "source": [
    "import pandas as pd\n",
    "\n",
    "df_FromCSVJob104TokenizeData = pd.read_csv('./Data/02_Job104Tokenize.csv', sep='|')\n",
    "df_FromCSVJob104TokenizeData.head(1)"
   ]
  },
  {
   "cell_type": "code",
   "execution_count": 13,
   "metadata": {},
   "outputs": [
    {
     "name": "stdout",
     "output_type": "stream",
     "text": [
      "['(1) ', '規劃', '與', '設計', '以', '「', '數據', '驅動', '」', '為', '核心', '之', '商業']\n"
     ]
    }
   ],
   "source": [
    "print(eval(df_FromCSVJob104TokenizeData.iloc[0].WS_JobDescription)[:13])"
   ]
  },
  {
   "cell_type": "code",
   "execution_count": 21,
   "metadata": {},
   "outputs": [],
   "source": [
    "import re\n",
    "\n",
    "def FilterWordWithPOS(WS, POS):\n",
    "    pattern = 'a-zA-Z|\\\\n|-|\\)|\\(|【|】|《|》|〈|〉|「|」|『|』|●|◎|■|（|）|–|｜|：|；|。|、|：|，|\\d|\\.|•|%| '\n",
    "    list_AllowPos = ['Na', 'VC', 'VE', 'VHC', 'Ncd', 'VA', 'FW', 'Nv', 'VH', 'VE']\n",
    "    list_JobDescriptionPair = zip(eval(WS), eval(POS))\n",
    "    list_RowFilteredWords = []\n",
    "    for word, pos in list_JobDescriptionPair:\n",
    "        \n",
    "        word = re.sub(pattern=',', repl=' ', string=word)\n",
    "        word_en = re.findall(pattern='[a-zA-Z,]{0,100}', string=word)\n",
    "\n",
    "        word_en = [e for e in word_en if e]\n",
    "        if word_en:\n",
    "            list_RowFilteredWords.extend(word_en)\n",
    "        \n",
    "        word = re.sub(\n",
    "            pattern=pattern, \n",
    "            repl='', \n",
    "            string=word)\n",
    "    \n",
    "        if len(word) >= 2 and pos in list_AllowPos:\n",
    "            list_RowFilteredWords.append(word)\n",
    "    return list_RowFilteredWords"
   ]
  },
  {
   "cell_type": "code",
   "execution_count": 22,
   "metadata": {},
   "outputs": [],
   "source": [
    "import re\n",
    "\n",
    "# list_AllowPos = ['Na', 'VC', 'VE', 'VHC', 'Ncd', 'VA', 'FW', 'Nv', 'VH', 'VE']\n",
    "\n",
    "list_JobDescriptionPair = zip(df_FromCSVJob104TokenizeData.WS_JobDescription, df_FromCSVJob104TokenizeData.POS_JobDescription)\n",
    "\n",
    "\n",
    "list_JobDescriptionFilteredWords = []\n",
    "\n",
    "for row_word, row_pos in list_JobDescriptionPair:\n",
    "    list_RowFilteredWords = FilterWordWithPOS(row_word, row_pos) \n",
    "    list_JobDescriptionFilteredWords.append(list_RowFilteredWords)"
   ]
  },
  {
   "cell_type": "code",
   "execution_count": 23,
   "metadata": {},
   "outputs": [],
   "source": [
    "list_OthersPair = zip(df_FromCSVJob104TokenizeData.WS_Others, df_FromCSVJob104TokenizeData.POS_Others)\n",
    "list_OthersFilteredWords = []\n",
    "\n",
    "for row_word, row_pos in list_OthersPair:\n",
    "    list_RowFilteredWords = FilterWordWithPOS(row_word, row_pos)\n",
    "    list_OthersFilteredWords.append(list_RowFilteredWords)"
   ]
  },
  {
   "cell_type": "code",
   "execution_count": 24,
   "metadata": {},
   "outputs": [],
   "source": [
    "df_FromCSVJob104TokenizeData['Filtered_JobDescription'] = list_JobDescriptionFilteredWords\n",
    "df_FromCSVJob104TokenizeData['Filtered_Others'] = list_OthersFilteredWords"
   ]
  },
  {
   "cell_type": "code",
   "execution_count": 25,
   "metadata": {},
   "outputs": [],
   "source": [
    "df_FromCSVJob104TokenizeData.to_csv('./Data/03_Job104Filtered.csv', sep='|', index=False)"
   ]
  }
 ],
 "metadata": {
  "kernelspec": {
   "display_name": "Python 3.7.13 ('ai2022')",
   "language": "python",
   "name": "python3"
  },
  "language_info": {
   "codemirror_mode": {
    "name": "ipython",
    "version": 3
   },
   "file_extension": ".py",
   "mimetype": "text/x-python",
   "name": "python",
   "nbconvert_exporter": "python",
   "pygments_lexer": "ipython3",
   "version": "3.7.13"
  },
  "orig_nbformat": 4,
  "vscode": {
   "interpreter": {
    "hash": "98788d100e55f546ff0f15555d57ee1dc9568260870160ef4c971f1e73887d3d"
   }
  }
 },
 "nbformat": 4,
 "nbformat_minor": 2
}
